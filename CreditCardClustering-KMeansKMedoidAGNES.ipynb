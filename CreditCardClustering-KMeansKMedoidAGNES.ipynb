{
 "cells": [
  {
   "cell_type": "markdown",
   "metadata": {
    "colab_type": "text",
    "id": "HXSlqiCoGZRU"
   },
   "source": [
    "# **Importing necessary Libraries:**\n"
   ]
  },
  {
   "cell_type": "code",
   "execution_count": 0,
   "metadata": {
    "colab": {
     "base_uri": "https://localhost:8080/",
     "height": 313
    },
    "colab_type": "code",
    "id": "4PbndRNGUkaz",
    "outputId": "e94ec84d-58d9-44eb-b446-c5f3b0d54d45"
   },
   "outputs": [
    {
     "name": "stdout",
     "output_type": "stream",
     "text": [
      "Collecting scikit-learn-extra\n",
      "\u001b[?25l  Downloading https://files.pythonhosted.org/packages/d1/dd/891d2ee7bd18af8f2e1df5d63a52ee96edd0eacc21bb9627072b1c5f6a6c/scikit-learn-extra-0.1.0b2.tar.gz (615kB)\n",
      "\r",
      "\u001b[K     |▌                               | 10kB 18.5MB/s eta 0:00:01\r",
      "\u001b[K     |█                               | 20kB 1.8MB/s eta 0:00:01\r",
      "\u001b[K     |█▋                              | 30kB 2.3MB/s eta 0:00:01\r",
      "\u001b[K     |██▏                             | 40kB 2.6MB/s eta 0:00:01\r",
      "\u001b[K     |██▋                             | 51kB 2.1MB/s eta 0:00:01\r",
      "\u001b[K     |███▏                            | 61kB 2.3MB/s eta 0:00:01\r",
      "\u001b[K     |███▊                            | 71kB 2.6MB/s eta 0:00:01\r",
      "\u001b[K     |████▎                           | 81kB 2.8MB/s eta 0:00:01\r",
      "\u001b[K     |████▉                           | 92kB 3.0MB/s eta 0:00:01\r",
      "\u001b[K     |█████▎                          | 102kB 2.9MB/s eta 0:00:01\r",
      "\u001b[K     |█████▉                          | 112kB 2.9MB/s eta 0:00:01\r",
      "\u001b[K     |██████▍                         | 122kB 2.9MB/s eta 0:00:01\r",
      "\u001b[K     |███████                         | 133kB 2.9MB/s eta 0:00:01\r",
      "\u001b[K     |███████▌                        | 143kB 2.9MB/s eta 0:00:01\r",
      "\u001b[K     |████████                        | 153kB 2.9MB/s eta 0:00:01\r",
      "\u001b[K     |████████▌                       | 163kB 2.9MB/s eta 0:00:01\r",
      "\u001b[K     |█████████                       | 174kB 2.9MB/s eta 0:00:01\r",
      "\u001b[K     |█████████▋                      | 184kB 2.9MB/s eta 0:00:01\r",
      "\u001b[K     |██████████▏                     | 194kB 2.9MB/s eta 0:00:01\r",
      "\u001b[K     |██████████▋                     | 204kB 2.9MB/s eta 0:00:01\r",
      "\u001b[K     |███████████▏                    | 215kB 2.9MB/s eta 0:00:01\r",
      "\u001b[K     |███████████▊                    | 225kB 2.9MB/s eta 0:00:01\r",
      "\u001b[K     |████████████▎                   | 235kB 2.9MB/s eta 0:00:01\r",
      "\u001b[K     |████████████▉                   | 245kB 2.9MB/s eta 0:00:01\r",
      "\u001b[K     |█████████████▎                  | 256kB 2.9MB/s eta 0:00:01\r",
      "\u001b[K     |█████████████▉                  | 266kB 2.9MB/s eta 0:00:01\r",
      "\u001b[K     |██████████████▍                 | 276kB 2.9MB/s eta 0:00:01\r",
      "\u001b[K     |███████████████                 | 286kB 2.9MB/s eta 0:00:01\r",
      "\u001b[K     |███████████████▌                | 296kB 2.9MB/s eta 0:00:01\r",
      "\u001b[K     |████████████████                | 307kB 2.9MB/s eta 0:00:01\r",
      "\u001b[K     |████████████████▌               | 317kB 2.9MB/s eta 0:00:01\r",
      "\u001b[K     |█████████████████               | 327kB 2.9MB/s eta 0:00:01\r",
      "\u001b[K     |█████████████████▋              | 337kB 2.9MB/s eta 0:00:01\r",
      "\u001b[K     |██████████████████              | 348kB 2.9MB/s eta 0:00:01\r",
      "\u001b[K     |██████████████████▋             | 358kB 2.9MB/s eta 0:00:01\r",
      "\u001b[K     |███████████████████▏            | 368kB 2.9MB/s eta 0:00:01\r",
      "\u001b[K     |███████████████████▊            | 378kB 2.9MB/s eta 0:00:01\r",
      "\u001b[K     |████████████████████▎           | 389kB 2.9MB/s eta 0:00:01\r",
      "\u001b[K     |████████████████████▊           | 399kB 2.9MB/s eta 0:00:01\r",
      "\u001b[K     |█████████████████████▎          | 409kB 2.9MB/s eta 0:00:01\r",
      "\u001b[K     |█████████████████████▉          | 419kB 2.9MB/s eta 0:00:01\r",
      "\u001b[K     |██████████████████████▍         | 430kB 2.9MB/s eta 0:00:01\r",
      "\u001b[K     |███████████████████████         | 440kB 2.9MB/s eta 0:00:01\r",
      "\u001b[K     |███████████████████████▍        | 450kB 2.9MB/s eta 0:00:01\r",
      "\u001b[K     |████████████████████████        | 460kB 2.9MB/s eta 0:00:01\r",
      "\u001b[K     |████████████████████████▌       | 471kB 2.9MB/s eta 0:00:01\r",
      "\u001b[K     |█████████████████████████       | 481kB 2.9MB/s eta 0:00:01\r",
      "\u001b[K     |█████████████████████████▋      | 491kB 2.9MB/s eta 0:00:01\r",
      "\u001b[K     |██████████████████████████      | 501kB 2.9MB/s eta 0:00:01\r",
      "\u001b[K     |██████████████████████████▋     | 512kB 2.9MB/s eta 0:00:01\r",
      "\u001b[K     |███████████████████████████▏    | 522kB 2.9MB/s eta 0:00:01\r",
      "\u001b[K     |███████████████████████████▊    | 532kB 2.9MB/s eta 0:00:01\r",
      "\u001b[K     |████████████████████████████▎   | 542kB 2.9MB/s eta 0:00:01\r",
      "\u001b[K     |████████████████████████████▊   | 552kB 2.9MB/s eta 0:00:01\r",
      "\u001b[K     |█████████████████████████████▎  | 563kB 2.9MB/s eta 0:00:01\r",
      "\u001b[K     |█████████████████████████████▉  | 573kB 2.9MB/s eta 0:00:01\r",
      "\u001b[K     |██████████████████████████████▍ | 583kB 2.9MB/s eta 0:00:01\r",
      "\u001b[K     |███████████████████████████████ | 593kB 2.9MB/s eta 0:00:01\r",
      "\u001b[K     |███████████████████████████████▍| 604kB 2.9MB/s eta 0:00:01\r",
      "\u001b[K     |████████████████████████████████| 614kB 2.9MB/s eta 0:00:01\r",
      "\u001b[K     |████████████████████████████████| 624kB 2.9MB/s \n",
      "\u001b[?25h  Installing build dependencies ... \u001b[?25l\u001b[?25hdone\n",
      "  Getting requirements to build wheel ... \u001b[?25l\u001b[?25hdone\n",
      "    Preparing wheel metadata ... \u001b[?25l\u001b[?25hdone\n",
      "Requirement already satisfied: numpy>=1.13.3 in /usr/local/lib/python3.6/dist-packages (from scikit-learn-extra) (1.18.4)\n",
      "Requirement already satisfied: scikit-learn>=0.21.0 in /usr/local/lib/python3.6/dist-packages (from scikit-learn-extra) (0.22.2.post1)\n",
      "Requirement already satisfied: scipy>=0.19.1 in /usr/local/lib/python3.6/dist-packages (from scikit-learn-extra) (1.4.1)\n",
      "Requirement already satisfied: joblib>=0.11 in /usr/local/lib/python3.6/dist-packages (from scikit-learn>=0.21.0->scikit-learn-extra) (0.15.1)\n",
      "Building wheels for collected packages: scikit-learn-extra\n",
      "  Building wheel for scikit-learn-extra (PEP 517) ... \u001b[?25l\u001b[?25hdone\n",
      "  Created wheel for scikit-learn-extra: filename=scikit_learn_extra-0.1.0b2-cp36-cp36m-linux_x86_64.whl size=342071 sha256=9b2a79068115a7b225ef8261f19ad9c02b446e86e5e0b38514db893120a55af4\n",
      "  Stored in directory: /root/.cache/pip/wheels/04/01/0f/943bffb48bac048fa216b4325f1a6c939491ccb0ff500e08f4\n",
      "Successfully built scikit-learn-extra\n",
      "Installing collected packages: scikit-learn-extra\n",
      "Successfully installed scikit-learn-extra-0.1.0b2\n"
     ]
    }
   ],
   "source": [
    "!pip install scikit-learn-extra"
   ]
  },
  {
   "cell_type": "code",
   "execution_count": 0,
   "metadata": {
    "colab": {},
    "colab_type": "code",
    "id": "0boXsouU2WBi"
   },
   "outputs": [],
   "source": [
    "import pandas as pd\n",
    "from sklearn.cluster import AgglomerativeClustering\n",
    "import numpy as np\n",
    "from sklearn.cluster import KMeans\n",
    "from sklearn import metrics \n",
    "import matplotlib.pyplot as plt\n",
    "from sklearn_extra.cluster import KMedoids\n",
    "import seaborn as sns\n",
    "sns.set() \n",
    "%matplotlib inline "
   ]
  },
  {
   "cell_type": "code",
   "execution_count": 0,
   "metadata": {
    "colab": {
     "base_uri": "https://localhost:8080/",
     "height": 207
    },
    "colab_type": "code",
    "id": "d_29e3Wm2W11",
    "outputId": "4754a752-4980-4f5a-bfcb-845a8211586a"
   },
   "outputs": [
    {
     "name": "stdout",
     "output_type": "stream",
     "text": [
      "(8950, 9)\n"
     ]
    },
    {
     "data": {
      "text/html": [
       "<div>\n",
       "<style scoped>\n",
       "    .dataframe tbody tr th:only-of-type {\n",
       "        vertical-align: middle;\n",
       "    }\n",
       "\n",
       "    .dataframe tbody tr th {\n",
       "        vertical-align: top;\n",
       "    }\n",
       "\n",
       "    .dataframe thead th {\n",
       "        text-align: right;\n",
       "    }\n",
       "</style>\n",
       "<table border=\"1\" class=\"dataframe\">\n",
       "  <thead>\n",
       "    <tr style=\"text-align: right;\">\n",
       "      <th></th>\n",
       "      <th>CUST_ID</th>\n",
       "      <th>BALANCE</th>\n",
       "      <th>PURCHASES</th>\n",
       "      <th>INSTALLMENTS_PURCHASES</th>\n",
       "      <th>CASH_ADVANCE</th>\n",
       "      <th>CREDIT_LIMIT</th>\n",
       "      <th>PAYMENTS</th>\n",
       "      <th>MINIMUM_PAYMENTS</th>\n",
       "      <th>TENURE</th>\n",
       "    </tr>\n",
       "  </thead>\n",
       "  <tbody>\n",
       "    <tr>\n",
       "      <th>0</th>\n",
       "      <td>C10001</td>\n",
       "      <td>40.900749</td>\n",
       "      <td>95.40</td>\n",
       "      <td>95.4</td>\n",
       "      <td>0.000000</td>\n",
       "      <td>1000.0</td>\n",
       "      <td>201.802084</td>\n",
       "      <td>139.509787</td>\n",
       "      <td>12</td>\n",
       "    </tr>\n",
       "    <tr>\n",
       "      <th>1</th>\n",
       "      <td>C10002</td>\n",
       "      <td>3202.467416</td>\n",
       "      <td>0.00</td>\n",
       "      <td>0.0</td>\n",
       "      <td>6442.945483</td>\n",
       "      <td>7000.0</td>\n",
       "      <td>4103.032597</td>\n",
       "      <td>1072.340217</td>\n",
       "      <td>12</td>\n",
       "    </tr>\n",
       "    <tr>\n",
       "      <th>2</th>\n",
       "      <td>C10003</td>\n",
       "      <td>2495.148862</td>\n",
       "      <td>773.17</td>\n",
       "      <td>0.0</td>\n",
       "      <td>0.000000</td>\n",
       "      <td>7500.0</td>\n",
       "      <td>622.066742</td>\n",
       "      <td>627.284787</td>\n",
       "      <td>12</td>\n",
       "    </tr>\n",
       "    <tr>\n",
       "      <th>3</th>\n",
       "      <td>C10004</td>\n",
       "      <td>1666.670542</td>\n",
       "      <td>1499.00</td>\n",
       "      <td>0.0</td>\n",
       "      <td>205.788017</td>\n",
       "      <td>7500.0</td>\n",
       "      <td>0.000000</td>\n",
       "      <td>312.343947</td>\n",
       "      <td>12</td>\n",
       "    </tr>\n",
       "    <tr>\n",
       "      <th>4</th>\n",
       "      <td>C10005</td>\n",
       "      <td>817.714335</td>\n",
       "      <td>16.00</td>\n",
       "      <td>0.0</td>\n",
       "      <td>0.000000</td>\n",
       "      <td>1200.0</td>\n",
       "      <td>678.334763</td>\n",
       "      <td>244.791237</td>\n",
       "      <td>12</td>\n",
       "    </tr>\n",
       "  </tbody>\n",
       "</table>\n",
       "</div>"
      ],
      "text/plain": [
       "  CUST_ID      BALANCE  PURCHASES  ...     PAYMENTS  MINIMUM_PAYMENTS  TENURE\n",
       "0  C10001    40.900749      95.40  ...   201.802084        139.509787      12\n",
       "1  C10002  3202.467416       0.00  ...  4103.032597       1072.340217      12\n",
       "2  C10003  2495.148862     773.17  ...   622.066742        627.284787      12\n",
       "3  C10004  1666.670542    1499.00  ...     0.000000        312.343947      12\n",
       "4  C10005   817.714335      16.00  ...   678.334763        244.791237      12\n",
       "\n",
       "[5 rows x 9 columns]"
      ]
     },
     "execution_count": 104,
     "metadata": {
      "tags": []
     },
     "output_type": "execute_result"
    }
   ],
   "source": [
    "\n",
    "data = pd.read_csv(\"credit_card.csv\")\n",
    "df= data.copy()\n",
    "print(df.shape)\n",
    "df.head()"
   ]
  },
  {
   "cell_type": "markdown",
   "metadata": {
    "colab_type": "text",
    "id": "YSv7xDUA3ZPC"
   },
   "source": [
    "# **Preprocessing:**\n",
    "\n",
    "We will find the value containing NaN or missing values and will try to fill them with appropraite values."
   ]
  },
  {
   "cell_type": "code",
   "execution_count": 0,
   "metadata": {
    "colab": {
     "base_uri": "https://localhost:8080/",
     "height": 180
    },
    "colab_type": "code",
    "id": "HYSSA1-G27xc",
    "outputId": "eb344730-ea38-446e-b226-57cdc8bf3a8b"
   },
   "outputs": [
    {
     "data": {
      "text/plain": [
       "CUST_ID                   0\n",
       "BALANCE                   0\n",
       "PURCHASES                 0\n",
       "INSTALLMENTS_PURCHASES    0\n",
       "CASH_ADVANCE              0\n",
       "CREDIT_LIMIT              0\n",
       "PAYMENTS                  0\n",
       "MINIMUM_PAYMENTS          0\n",
       "TENURE                    0\n",
       "dtype: int64"
      ]
     },
     "execution_count": 105,
     "metadata": {
      "tags": []
     },
     "output_type": "execute_result"
    }
   ],
   "source": [
    "\n",
    "df.isnull().sum()"
   ]
  },
  {
   "cell_type": "markdown",
   "metadata": {
    "colab_type": "text",
    "id": "8lFNviOjGrjU"
   },
   "source": [
    "Since, there are no as such null values, we will now observe the summary of this dataset."
   ]
  },
  {
   "cell_type": "code",
   "execution_count": 0,
   "metadata": {
    "colab": {
     "base_uri": "https://localhost:8080/",
     "height": 277
    },
    "colab_type": "code",
    "id": "McIAZy6F3qOE",
    "outputId": "65605e3d-3c32-4dc9-89c7-3b2ff1bda9dc"
   },
   "outputs": [
    {
     "data": {
      "text/html": [
       "<div>\n",
       "<style scoped>\n",
       "    .dataframe tbody tr th:only-of-type {\n",
       "        vertical-align: middle;\n",
       "    }\n",
       "\n",
       "    .dataframe tbody tr th {\n",
       "        vertical-align: top;\n",
       "    }\n",
       "\n",
       "    .dataframe thead th {\n",
       "        text-align: right;\n",
       "    }\n",
       "</style>\n",
       "<table border=\"1\" class=\"dataframe\">\n",
       "  <thead>\n",
       "    <tr style=\"text-align: right;\">\n",
       "      <th></th>\n",
       "      <th>BALANCE</th>\n",
       "      <th>PURCHASES</th>\n",
       "      <th>INSTALLMENTS_PURCHASES</th>\n",
       "      <th>CASH_ADVANCE</th>\n",
       "      <th>CREDIT_LIMIT</th>\n",
       "      <th>PAYMENTS</th>\n",
       "      <th>MINIMUM_PAYMENTS</th>\n",
       "      <th>TENURE</th>\n",
       "    </tr>\n",
       "  </thead>\n",
       "  <tbody>\n",
       "    <tr>\n",
       "      <th>count</th>\n",
       "      <td>8950.000000</td>\n",
       "      <td>8950.000000</td>\n",
       "      <td>8950.000000</td>\n",
       "      <td>8950.000000</td>\n",
       "      <td>8950.000000</td>\n",
       "      <td>8950.000000</td>\n",
       "      <td>8950.000000</td>\n",
       "      <td>8950.000000</td>\n",
       "    </tr>\n",
       "    <tr>\n",
       "      <th>mean</th>\n",
       "      <td>1564.474828</td>\n",
       "      <td>1003.204834</td>\n",
       "      <td>411.067645</td>\n",
       "      <td>978.871112</td>\n",
       "      <td>4494.282473</td>\n",
       "      <td>1733.143852</td>\n",
       "      <td>844.906767</td>\n",
       "      <td>11.517318</td>\n",
       "    </tr>\n",
       "    <tr>\n",
       "      <th>std</th>\n",
       "      <td>2081.531879</td>\n",
       "      <td>2136.634782</td>\n",
       "      <td>904.338115</td>\n",
       "      <td>2097.163877</td>\n",
       "      <td>3638.646702</td>\n",
       "      <td>2895.063757</td>\n",
       "      <td>2332.792322</td>\n",
       "      <td>1.338331</td>\n",
       "    </tr>\n",
       "    <tr>\n",
       "      <th>min</th>\n",
       "      <td>0.000000</td>\n",
       "      <td>0.000000</td>\n",
       "      <td>0.000000</td>\n",
       "      <td>0.000000</td>\n",
       "      <td>50.000000</td>\n",
       "      <td>0.000000</td>\n",
       "      <td>0.019163</td>\n",
       "      <td>6.000000</td>\n",
       "    </tr>\n",
       "    <tr>\n",
       "      <th>25%</th>\n",
       "      <td>128.281915</td>\n",
       "      <td>39.635000</td>\n",
       "      <td>0.000000</td>\n",
       "      <td>0.000000</td>\n",
       "      <td>1600.000000</td>\n",
       "      <td>383.276166</td>\n",
       "      <td>170.857654</td>\n",
       "      <td>12.000000</td>\n",
       "    </tr>\n",
       "    <tr>\n",
       "      <th>50%</th>\n",
       "      <td>873.385231</td>\n",
       "      <td>361.280000</td>\n",
       "      <td>89.000000</td>\n",
       "      <td>0.000000</td>\n",
       "      <td>3000.000000</td>\n",
       "      <td>856.901546</td>\n",
       "      <td>312.343947</td>\n",
       "      <td>12.000000</td>\n",
       "    </tr>\n",
       "    <tr>\n",
       "      <th>75%</th>\n",
       "      <td>2054.140036</td>\n",
       "      <td>1110.130000</td>\n",
       "      <td>468.637500</td>\n",
       "      <td>1113.821139</td>\n",
       "      <td>6500.000000</td>\n",
       "      <td>1901.134317</td>\n",
       "      <td>788.713501</td>\n",
       "      <td>12.000000</td>\n",
       "    </tr>\n",
       "    <tr>\n",
       "      <th>max</th>\n",
       "      <td>19043.138560</td>\n",
       "      <td>49039.570000</td>\n",
       "      <td>22500.000000</td>\n",
       "      <td>47137.211760</td>\n",
       "      <td>30000.000000</td>\n",
       "      <td>50721.483360</td>\n",
       "      <td>76406.207520</td>\n",
       "      <td>12.000000</td>\n",
       "    </tr>\n",
       "  </tbody>\n",
       "</table>\n",
       "</div>"
      ],
      "text/plain": [
       "            BALANCE     PURCHASES  ...  MINIMUM_PAYMENTS       TENURE\n",
       "count   8950.000000   8950.000000  ...       8950.000000  8950.000000\n",
       "mean    1564.474828   1003.204834  ...        844.906767    11.517318\n",
       "std     2081.531879   2136.634782  ...       2332.792322     1.338331\n",
       "min        0.000000      0.000000  ...          0.019163     6.000000\n",
       "25%      128.281915     39.635000  ...        170.857654    12.000000\n",
       "50%      873.385231    361.280000  ...        312.343947    12.000000\n",
       "75%     2054.140036   1110.130000  ...        788.713501    12.000000\n",
       "max    19043.138560  49039.570000  ...      76406.207520    12.000000\n",
       "\n",
       "[8 rows x 8 columns]"
      ]
     },
     "execution_count": 106,
     "metadata": {
      "tags": []
     },
     "output_type": "execute_result"
    }
   ],
   "source": [
    "df.describe()\n"
   ]
  },
  {
   "cell_type": "markdown",
   "metadata": {
    "colab_type": "text",
    "id": "8iZm_ZIL3269"
   },
   "source": [
    "# **Feature Engineering:**\n",
    "We will try to minimize the features and keep only that values that matters for clustering."
   ]
  },
  {
   "cell_type": "code",
   "execution_count": 0,
   "metadata": {
    "colab": {},
    "colab_type": "code",
    "id": "SqbXB0md3sd7"
   },
   "outputs": [],
   "source": [
    "X= df.drop('CUST_ID', axis=1)"
   ]
  },
  {
   "cell_type": "markdown",
   "metadata": {
    "colab_type": "text",
    "id": "fvqU-CrxOyaV"
   },
   "source": [
    "# **Normalizing the Values:**"
   ]
  },
  {
   "cell_type": "code",
   "execution_count": 0,
   "metadata": {
    "colab": {},
    "colab_type": "code",
    "id": "0ByVJX0m6YD0"
   },
   "outputs": [],
   "source": [
    "from sklearn.preprocessing import MinMaxScaler\n",
    "scaler = MinMaxScaler() \n",
    "ArraytobeScaled=scaler.fit_transform(X)\n",
    "scaled=pd.DataFrame(columns=X.columns,data=ArraytobeScaled)"
   ]
  },
  {
   "cell_type": "code",
   "execution_count": 0,
   "metadata": {
    "colab": {
     "base_uri": "https://localhost:8080/",
     "height": 191
    },
    "colab_type": "code",
    "id": "K1CX9QYz67AT",
    "outputId": "027e9f5b-b5ed-4b35-da01-4f28a91ddfb5"
   },
   "outputs": [
    {
     "data": {
      "text/html": [
       "<div>\n",
       "<style scoped>\n",
       "    .dataframe tbody tr th:only-of-type {\n",
       "        vertical-align: middle;\n",
       "    }\n",
       "\n",
       "    .dataframe tbody tr th {\n",
       "        vertical-align: top;\n",
       "    }\n",
       "\n",
       "    .dataframe thead th {\n",
       "        text-align: right;\n",
       "    }\n",
       "</style>\n",
       "<table border=\"1\" class=\"dataframe\">\n",
       "  <thead>\n",
       "    <tr style=\"text-align: right;\">\n",
       "      <th></th>\n",
       "      <th>BALANCE</th>\n",
       "      <th>PURCHASES</th>\n",
       "      <th>INSTALLMENTS_PURCHASES</th>\n",
       "      <th>CASH_ADVANCE</th>\n",
       "      <th>CREDIT_LIMIT</th>\n",
       "      <th>PAYMENTS</th>\n",
       "      <th>MINIMUM_PAYMENTS</th>\n",
       "      <th>TENURE</th>\n",
       "    </tr>\n",
       "  </thead>\n",
       "  <tbody>\n",
       "    <tr>\n",
       "      <th>0</th>\n",
       "      <td>0.002148</td>\n",
       "      <td>0.001945</td>\n",
       "      <td>0.00424</td>\n",
       "      <td>0.000000</td>\n",
       "      <td>0.031720</td>\n",
       "      <td>0.003979</td>\n",
       "      <td>0.001826</td>\n",
       "      <td>1.0</td>\n",
       "    </tr>\n",
       "    <tr>\n",
       "      <th>1</th>\n",
       "      <td>0.168169</td>\n",
       "      <td>0.000000</td>\n",
       "      <td>0.00000</td>\n",
       "      <td>0.136685</td>\n",
       "      <td>0.232053</td>\n",
       "      <td>0.080893</td>\n",
       "      <td>0.014034</td>\n",
       "      <td>1.0</td>\n",
       "    </tr>\n",
       "    <tr>\n",
       "      <th>2</th>\n",
       "      <td>0.131026</td>\n",
       "      <td>0.015766</td>\n",
       "      <td>0.00000</td>\n",
       "      <td>0.000000</td>\n",
       "      <td>0.248748</td>\n",
       "      <td>0.012264</td>\n",
       "      <td>0.008210</td>\n",
       "      <td>1.0</td>\n",
       "    </tr>\n",
       "    <tr>\n",
       "      <th>3</th>\n",
       "      <td>0.087521</td>\n",
       "      <td>0.030567</td>\n",
       "      <td>0.00000</td>\n",
       "      <td>0.004366</td>\n",
       "      <td>0.248748</td>\n",
       "      <td>0.000000</td>\n",
       "      <td>0.004088</td>\n",
       "      <td>1.0</td>\n",
       "    </tr>\n",
       "    <tr>\n",
       "      <th>4</th>\n",
       "      <td>0.042940</td>\n",
       "      <td>0.000326</td>\n",
       "      <td>0.00000</td>\n",
       "      <td>0.000000</td>\n",
       "      <td>0.038397</td>\n",
       "      <td>0.013374</td>\n",
       "      <td>0.003204</td>\n",
       "      <td>1.0</td>\n",
       "    </tr>\n",
       "  </tbody>\n",
       "</table>\n",
       "</div>"
      ],
      "text/plain": [
       "    BALANCE  PURCHASES  ...  MINIMUM_PAYMENTS  TENURE\n",
       "0  0.002148   0.001945  ...          0.001826     1.0\n",
       "1  0.168169   0.000000  ...          0.014034     1.0\n",
       "2  0.131026   0.015766  ...          0.008210     1.0\n",
       "3  0.087521   0.030567  ...          0.004088     1.0\n",
       "4  0.042940   0.000326  ...          0.003204     1.0\n",
       "\n",
       "[5 rows x 8 columns]"
      ]
     },
     "execution_count": 109,
     "metadata": {
      "tags": []
     },
     "output_type": "execute_result"
    }
   ],
   "source": [
    "scaled.head()"
   ]
  },
  {
   "cell_type": "markdown",
   "metadata": {
    "colab_type": "text",
    "id": "RMiokJvuSuPu"
   },
   "source": [
    "# **Testing the optimal number of clusters by Elbow Method and Silhoutte Score:**"
   ]
  },
  {
   "cell_type": "code",
   "execution_count": 0,
   "metadata": {
    "colab": {},
    "colab_type": "code",
    "id": "1yfzD4hD7WE0"
   },
   "outputs": [],
   "source": [
    "cost = []\n",
    "for k in range(1, 10):\n",
    "    kmeanModel = KMedoids(n_clusters=k, random_state=0).fit(scaled)\n",
    "    cost.append([k,kmeanModel.inertia_])\n",
    "\n",
    "cost_medoid = []\n",
    "for k in range(1, 10):\n",
    "    kmedoidModel = KMeans(n_clusters=k, random_state=0).fit(scaled)\n",
    "    cost_medoid.append([k,kmedoidModel.inertia_])"
   ]
  },
  {
   "cell_type": "code",
   "execution_count": 0,
   "metadata": {
    "colab": {
     "base_uri": "https://localhost:8080/",
     "height": 446
    },
    "colab_type": "code",
    "id": "Rwuu7cXG7rl5",
    "outputId": "c5546306-f1a1-439f-d0be-18900ac64b1c"
   },
   "outputs": [
    {
     "data": {
      "image/png": "[encoded data removed]",
      "text/plain": [
       "<Figure size 1080x432 with 1 Axes>"
      ]
     },
     "metadata": {
      "needs_background": "light",
      "tags": []
     },
     "output_type": "display_data"
    }
   ],
   "source": [
    "plt.figure(figsize=(15,6))\n",
    "sns.set_context('poster')\n",
    "plt.plot(pd.DataFrame(cost)[0], pd.DataFrame(cost)[1])\n",
    "plt.xlabel('k')\n",
    "plt.ylabel('Cost')\n",
    "plt.title('Elbow Method - KMeans') \n",
    "plt.show()"
   ]
  },
  {
   "cell_type": "code",
   "execution_count": 0,
   "metadata": {
    "colab": {
     "base_uri": "https://localhost:8080/",
     "height": 446
    },
    "colab_type": "code",
    "id": "U5I8PpzpfGDW",
    "outputId": "b722d5c7-bbf4-4684-ec54-96ca3a698563"
   },
   "outputs": [
    {
     "data": {
      "image/png": "[encoded data removed]",
      "text/plain": [
       "<Figure size 1080x432 with 1 Axes>"
      ]
     },
     "metadata": {
      "needs_background": "light",
      "tags": []
     },
     "output_type": "display_data"
    }
   ],
   "source": [
    "plt.figure(figsize=(15,6))\n",
    "sns.set_context('poster')\n",
    "plt.plot(pd.DataFrame(cost_medoid)[0], pd.DataFrame(cost)[1])\n",
    "plt.xlabel('k')\n",
    "plt.ylabel('Cost')\n",
    "plt.title('Elbow Method - KMedoids') \n",
    "plt.show()"
   ]
  },
  {
   "cell_type": "code",
   "execution_count": 0,
   "metadata": {
    "colab": {},
    "colab_type": "code",
    "id": "sPokmSoo7uGm"
   },
   "outputs": [],
   "source": [
    "from sklearn.metrics import silhouette_score\n",
    "silhouettescore = []\n",
    "for k in range(2, 10):\n",
    "    kmeans = KMeans(n_clusters=k, random_state=0).fit(scaled)\n",
    "    silhouettescore.append([k, silhouette_score(scaled, kmeans.labels_)])\n",
    "\n",
    "silhouettescore_medoid = []\n",
    "for k in range(2, 10):\n",
    "    kmedoids = KMedoids(n_clusters=k, random_state=0).fit(scaled)\n",
    "    silhouettescore_medoid.append([k, silhouette_score(scaled, kmedoids.labels_)])"
   ]
  },
  {
   "cell_type": "code",
   "execution_count": 0,
   "metadata": {
    "colab": {
     "base_uri": "https://localhost:8080/",
     "height": 446
    },
    "colab_type": "code",
    "id": "8-zU5LVC8DpQ",
    "outputId": "7b82afd1-c043-4002-e473-96416394bcdb"
   },
   "outputs": [
    {
     "data": {
      "image/png": "[encoded data removed]",
      "text/plain": [
       "<Figure size 1080x432 with 1 Axes>"
      ]
     },
     "metadata": {
      "needs_background": "light",
      "tags": []
     },
     "output_type": "display_data"
    }
   ],
   "source": [
    "plt.figure(figsize=(15,6))\n",
    "sns.set_context('poster')\n",
    "plt.plot( pd.DataFrame(silhouettescore)[0], pd.DataFrame(silhouettescore)[1])\n",
    "plt.xlabel('clusters')\n",
    "plt.ylabel('score')\n",
    "plt.title('The silhouette score - KMeans') \n",
    "plt.show()"
   ]
  },
  {
   "cell_type": "code",
   "execution_count": 0,
   "metadata": {
    "colab": {
     "base_uri": "https://localhost:8080/",
     "height": 446
    },
    "colab_type": "code",
    "id": "ZYshbgBcjXwV",
    "outputId": "e903fcbc-8f82-4d29-91d9-eb9fe59958b1"
   },
   "outputs": [
    {
     "data": {
      "image/png": "[encoded data removed]",
      "text/plain": [
       "<Figure size 1080x432 with 1 Axes>"
      ]
     },
     "metadata": {
      "needs_background": "light",
      "tags": []
     },
     "output_type": "display_data"
    }
   ],
   "source": [
    "plt.figure(figsize=(15,6))\n",
    "sns.set_context('poster')\n",
    "plt.plot( pd.DataFrame(silhouettescore_medoid)[0], pd.DataFrame(silhouettescore_medoid)[1])\n",
    "plt.xlabel('clusters')\n",
    "plt.ylabel('score')\n",
    "plt.title('The silhouette score - KMedoids') \n",
    "plt.show()"
   ]
  },
  {
   "cell_type": "markdown",
   "metadata": {
    "colab_type": "text",
    "id": "sXzDJteHkRsv"
   },
   "source": [
    "."
   ]
  },
  {
   "cell_type": "markdown",
   "metadata": {
    "colab_type": "text",
    "id": "tUjYA2xZj3uJ"
   },
   "source": [
    "***From the graphs plotted above 3 clusters seems to be a reasonable choice.***"
   ]
  },
  {
   "cell_type": "markdown",
   "metadata": {
    "colab_type": "text",
    "id": "Prl5u_NRkTQ-"
   },
   "source": [
    "."
   ]
  },
  {
   "cell_type": "code",
   "execution_count": 0,
   "metadata": {
    "colab": {
     "base_uri": "https://localhost:8080/",
     "height": 212
    },
    "colab_type": "code",
    "id": "TI-Qbggf8H9H",
    "outputId": "d60b501f-1483-485d-8743-919511b14de9"
   },
   "outputs": [
    {
     "name": "stdout",
     "output_type": "stream",
     "text": [
      "0    6479\n",
      "2    1707\n",
      "1     764\n",
      "Name: kmean, dtype: int64\n",
      "2    5079\n",
      "0    2211\n",
      "1    1660\n",
      "Name: kmedoid, dtype: int64\n",
      "0    7101\n",
      "2    1229\n",
      "1     620\n",
      "Name: AGNES, dtype: int64\n"
     ]
    }
   ],
   "source": [
    "pred = X.copy()\n",
    "\n",
    "kmean = KMeans(n_clusters=3, random_state=0)\n",
    "kmean.fit(scaled)\n",
    "pred['kmean'] = kmean.labels_\n",
    "print(pred['kmean'].value_counts())\n",
    "\n",
    "\n",
    "pred_medoid = X.copy()\n",
    "\n",
    "kmedoids = KMedoids(n_clusters=3, random_state=0)\n",
    "kmedoids.fit(scaled)\n",
    "pred_medoid['kmedoid'] = kmedoids.labels_\n",
    "print(pred_medoid['kmedoid'].value_counts())\n",
    "\n",
    "\n",
    "pred_AGNES = X.copy()\n",
    "\n",
    "ward = AgglomerativeClustering(n_clusters=3)\n",
    "AGNES = ward.fit_predict(scaled)\n",
    "pred_AGNES['AGNES'] = AGNES\n",
    "\n",
    "print(pred_AGNES['AGNES'].value_counts())\n",
    "\n",
    "\n"
   ]
  },
  {
   "cell_type": "code",
   "execution_count": 0,
   "metadata": {
    "colab": {
     "base_uri": "https://localhost:8080/",
     "height": 191
    },
    "colab_type": "code",
    "id": "qbb3rmjs8YPq",
    "outputId": "de02863e-3698-41e9-d443-fdac8bc5c178"
   },
   "outputs": [
    {
     "data": {
      "text/html": [
       "<div>\n",
       "<style scoped>\n",
       "    .dataframe tbody tr th:only-of-type {\n",
       "        vertical-align: middle;\n",
       "    }\n",
       "\n",
       "    .dataframe tbody tr th {\n",
       "        vertical-align: top;\n",
       "    }\n",
       "\n",
       "    .dataframe thead th {\n",
       "        text-align: right;\n",
       "    }\n",
       "</style>\n",
       "<table border=\"1\" class=\"dataframe\">\n",
       "  <thead>\n",
       "    <tr style=\"text-align: right;\">\n",
       "      <th></th>\n",
       "      <th>BALANCE</th>\n",
       "      <th>PURCHASES</th>\n",
       "      <th>INSTALLMENTS_PURCHASES</th>\n",
       "      <th>CASH_ADVANCE</th>\n",
       "      <th>CREDIT_LIMIT</th>\n",
       "      <th>PAYMENTS</th>\n",
       "      <th>MINIMUM_PAYMENTS</th>\n",
       "      <th>TENURE</th>\n",
       "      <th>kmean</th>\n",
       "    </tr>\n",
       "  </thead>\n",
       "  <tbody>\n",
       "    <tr>\n",
       "      <th>0</th>\n",
       "      <td>40.900749</td>\n",
       "      <td>95.40</td>\n",
       "      <td>95.4</td>\n",
       "      <td>0.000000</td>\n",
       "      <td>1000.0</td>\n",
       "      <td>201.802084</td>\n",
       "      <td>139.509787</td>\n",
       "      <td>12</td>\n",
       "      <td>0</td>\n",
       "    </tr>\n",
       "    <tr>\n",
       "      <th>1</th>\n",
       "      <td>3202.467416</td>\n",
       "      <td>0.00</td>\n",
       "      <td>0.0</td>\n",
       "      <td>6442.945483</td>\n",
       "      <td>7000.0</td>\n",
       "      <td>4103.032597</td>\n",
       "      <td>1072.340217</td>\n",
       "      <td>12</td>\n",
       "      <td>2</td>\n",
       "    </tr>\n",
       "    <tr>\n",
       "      <th>2</th>\n",
       "      <td>2495.148862</td>\n",
       "      <td>773.17</td>\n",
       "      <td>0.0</td>\n",
       "      <td>0.000000</td>\n",
       "      <td>7500.0</td>\n",
       "      <td>622.066742</td>\n",
       "      <td>627.284787</td>\n",
       "      <td>12</td>\n",
       "      <td>2</td>\n",
       "    </tr>\n",
       "    <tr>\n",
       "      <th>3</th>\n",
       "      <td>1666.670542</td>\n",
       "      <td>1499.00</td>\n",
       "      <td>0.0</td>\n",
       "      <td>205.788017</td>\n",
       "      <td>7500.0</td>\n",
       "      <td>0.000000</td>\n",
       "      <td>312.343947</td>\n",
       "      <td>12</td>\n",
       "      <td>0</td>\n",
       "    </tr>\n",
       "    <tr>\n",
       "      <th>4</th>\n",
       "      <td>817.714335</td>\n",
       "      <td>16.00</td>\n",
       "      <td>0.0</td>\n",
       "      <td>0.000000</td>\n",
       "      <td>1200.0</td>\n",
       "      <td>678.334763</td>\n",
       "      <td>244.791237</td>\n",
       "      <td>12</td>\n",
       "      <td>0</td>\n",
       "    </tr>\n",
       "  </tbody>\n",
       "</table>\n",
       "</div>"
      ],
      "text/plain": [
       "       BALANCE  PURCHASES  ...  TENURE  kmean\n",
       "0    40.900749      95.40  ...      12      0\n",
       "1  3202.467416       0.00  ...      12      2\n",
       "2  2495.148862     773.17  ...      12      2\n",
       "3  1666.670542    1499.00  ...      12      0\n",
       "4   817.714335      16.00  ...      12      0\n",
       "\n",
       "[5 rows x 9 columns]"
      ]
     },
     "execution_count": 121,
     "metadata": {
      "tags": []
     },
     "output_type": "execute_result"
    }
   ],
   "source": [
    "pred.head()"
   ]
  },
  {
   "cell_type": "code",
   "execution_count": 0,
   "metadata": {
    "colab": {
     "base_uri": "https://localhost:8080/",
     "height": 191
    },
    "colab_type": "code",
    "id": "DX9KWvKEkyox",
    "outputId": "576559fe-13ee-46e9-8ac7-b9e585435dae"
   },
   "outputs": [
    {
     "data": {
      "text/html": [
       "<div>\n",
       "<style scoped>\n",
       "    .dataframe tbody tr th:only-of-type {\n",
       "        vertical-align: middle;\n",
       "    }\n",
       "\n",
       "    .dataframe tbody tr th {\n",
       "        vertical-align: top;\n",
       "    }\n",
       "\n",
       "    .dataframe thead th {\n",
       "        text-align: right;\n",
       "    }\n",
       "</style>\n",
       "<table border=\"1\" class=\"dataframe\">\n",
       "  <thead>\n",
       "    <tr style=\"text-align: right;\">\n",
       "      <th></th>\n",
       "      <th>BALANCE</th>\n",
       "      <th>PURCHASES</th>\n",
       "      <th>INSTALLMENTS_PURCHASES</th>\n",
       "      <th>CASH_ADVANCE</th>\n",
       "      <th>CREDIT_LIMIT</th>\n",
       "      <th>PAYMENTS</th>\n",
       "      <th>MINIMUM_PAYMENTS</th>\n",
       "      <th>TENURE</th>\n",
       "      <th>kmedoid</th>\n",
       "    </tr>\n",
       "  </thead>\n",
       "  <tbody>\n",
       "    <tr>\n",
       "      <th>0</th>\n",
       "      <td>40.900749</td>\n",
       "      <td>95.40</td>\n",
       "      <td>95.4</td>\n",
       "      <td>0.000000</td>\n",
       "      <td>1000.0</td>\n",
       "      <td>201.802084</td>\n",
       "      <td>139.509787</td>\n",
       "      <td>12</td>\n",
       "      <td>2</td>\n",
       "    </tr>\n",
       "    <tr>\n",
       "      <th>1</th>\n",
       "      <td>3202.467416</td>\n",
       "      <td>0.00</td>\n",
       "      <td>0.0</td>\n",
       "      <td>6442.945483</td>\n",
       "      <td>7000.0</td>\n",
       "      <td>4103.032597</td>\n",
       "      <td>1072.340217</td>\n",
       "      <td>12</td>\n",
       "      <td>1</td>\n",
       "    </tr>\n",
       "    <tr>\n",
       "      <th>2</th>\n",
       "      <td>2495.148862</td>\n",
       "      <td>773.17</td>\n",
       "      <td>0.0</td>\n",
       "      <td>0.000000</td>\n",
       "      <td>7500.0</td>\n",
       "      <td>622.066742</td>\n",
       "      <td>627.284787</td>\n",
       "      <td>12</td>\n",
       "      <td>0</td>\n",
       "    </tr>\n",
       "    <tr>\n",
       "      <th>3</th>\n",
       "      <td>1666.670542</td>\n",
       "      <td>1499.00</td>\n",
       "      <td>0.0</td>\n",
       "      <td>205.788017</td>\n",
       "      <td>7500.0</td>\n",
       "      <td>0.000000</td>\n",
       "      <td>312.343947</td>\n",
       "      <td>12</td>\n",
       "      <td>0</td>\n",
       "    </tr>\n",
       "    <tr>\n",
       "      <th>4</th>\n",
       "      <td>817.714335</td>\n",
       "      <td>16.00</td>\n",
       "      <td>0.0</td>\n",
       "      <td>0.000000</td>\n",
       "      <td>1200.0</td>\n",
       "      <td>678.334763</td>\n",
       "      <td>244.791237</td>\n",
       "      <td>12</td>\n",
       "      <td>2</td>\n",
       "    </tr>\n",
       "  </tbody>\n",
       "</table>\n",
       "</div>"
      ],
      "text/plain": [
       "       BALANCE  PURCHASES  ...  TENURE  kmedoid\n",
       "0    40.900749      95.40  ...      12        2\n",
       "1  3202.467416       0.00  ...      12        1\n",
       "2  2495.148862     773.17  ...      12        0\n",
       "3  1666.670542    1499.00  ...      12        0\n",
       "4   817.714335      16.00  ...      12        2\n",
       "\n",
       "[5 rows x 9 columns]"
      ]
     },
     "execution_count": 122,
     "metadata": {
      "tags": []
     },
     "output_type": "execute_result"
    }
   ],
   "source": [
    "pred_medoid.head()"
   ]
  },
  {
   "cell_type": "code",
   "execution_count": 0,
   "metadata": {
    "colab": {
     "base_uri": "https://localhost:8080/",
     "height": 191
    },
    "colab_type": "code",
    "id": "ZE8EIkS7u2OH",
    "outputId": "8bf64806-6d6b-4ab2-bd38-35c750a3f62c"
   },
   "outputs": [
    {
     "data": {
      "text/html": [
       "<div>\n",
       "<style scoped>\n",
       "    .dataframe tbody tr th:only-of-type {\n",
       "        vertical-align: middle;\n",
       "    }\n",
       "\n",
       "    .dataframe tbody tr th {\n",
       "        vertical-align: top;\n",
       "    }\n",
       "\n",
       "    .dataframe thead th {\n",
       "        text-align: right;\n",
       "    }\n",
       "</style>\n",
       "<table border=\"1\" class=\"dataframe\">\n",
       "  <thead>\n",
       "    <tr style=\"text-align: right;\">\n",
       "      <th></th>\n",
       "      <th>BALANCE</th>\n",
       "      <th>PURCHASES</th>\n",
       "      <th>INSTALLMENTS_PURCHASES</th>\n",
       "      <th>CASH_ADVANCE</th>\n",
       "      <th>CREDIT_LIMIT</th>\n",
       "      <th>PAYMENTS</th>\n",
       "      <th>MINIMUM_PAYMENTS</th>\n",
       "      <th>TENURE</th>\n",
       "      <th>AGNES</th>\n",
       "    </tr>\n",
       "  </thead>\n",
       "  <tbody>\n",
       "    <tr>\n",
       "      <th>0</th>\n",
       "      <td>40.900749</td>\n",
       "      <td>95.40</td>\n",
       "      <td>95.4</td>\n",
       "      <td>0.000000</td>\n",
       "      <td>1000.0</td>\n",
       "      <td>201.802084</td>\n",
       "      <td>139.509787</td>\n",
       "      <td>12</td>\n",
       "      <td>0</td>\n",
       "    </tr>\n",
       "    <tr>\n",
       "      <th>1</th>\n",
       "      <td>3202.467416</td>\n",
       "      <td>0.00</td>\n",
       "      <td>0.0</td>\n",
       "      <td>6442.945483</td>\n",
       "      <td>7000.0</td>\n",
       "      <td>4103.032597</td>\n",
       "      <td>1072.340217</td>\n",
       "      <td>12</td>\n",
       "      <td>2</td>\n",
       "    </tr>\n",
       "    <tr>\n",
       "      <th>2</th>\n",
       "      <td>2495.148862</td>\n",
       "      <td>773.17</td>\n",
       "      <td>0.0</td>\n",
       "      <td>0.000000</td>\n",
       "      <td>7500.0</td>\n",
       "      <td>622.066742</td>\n",
       "      <td>627.284787</td>\n",
       "      <td>12</td>\n",
       "      <td>0</td>\n",
       "    </tr>\n",
       "    <tr>\n",
       "      <th>3</th>\n",
       "      <td>1666.670542</td>\n",
       "      <td>1499.00</td>\n",
       "      <td>0.0</td>\n",
       "      <td>205.788017</td>\n",
       "      <td>7500.0</td>\n",
       "      <td>0.000000</td>\n",
       "      <td>312.343947</td>\n",
       "      <td>12</td>\n",
       "      <td>0</td>\n",
       "    </tr>\n",
       "    <tr>\n",
       "      <th>4</th>\n",
       "      <td>817.714335</td>\n",
       "      <td>16.00</td>\n",
       "      <td>0.0</td>\n",
       "      <td>0.000000</td>\n",
       "      <td>1200.0</td>\n",
       "      <td>678.334763</td>\n",
       "      <td>244.791237</td>\n",
       "      <td>12</td>\n",
       "      <td>0</td>\n",
       "    </tr>\n",
       "  </tbody>\n",
       "</table>\n",
       "</div>"
      ],
      "text/plain": [
       "       BALANCE  PURCHASES  ...  TENURE  AGNES\n",
       "0    40.900749      95.40  ...      12      0\n",
       "1  3202.467416       0.00  ...      12      2\n",
       "2  2495.148862     773.17  ...      12      0\n",
       "3  1666.670542    1499.00  ...      12      0\n",
       "4   817.714335      16.00  ...      12      0\n",
       "\n",
       "[5 rows x 9 columns]"
      ]
     },
     "execution_count": 125,
     "metadata": {
      "tags": []
     },
     "output_type": "execute_result"
    }
   ],
   "source": [
    "pred_AGNES.head()"
   ]
  },
  {
   "cell_type": "markdown",
   "metadata": {
    "colab_type": "text",
    "id": "aBq_vyGaxSKF"
   },
   "source": [
    "# **Analysis:**\n",
    "> We will be performing the following operations in this section:\n",
    ">\n",
    ">* Analysis\n",
    ">* Visulizations\n",
    ">* Discussion\n",
    ">\n",
    "> ## **Analysis**\n",
    ">>  Printing the Dataframes with values grouped by each cluster. We will have the means of the values against each cluster.\n",
    ">\n",
    "> ## **Visualization**\n",
    ">>  We will be plotting each cluster from each method and observe how the clusters differ. Radar Graph from Plotly is a great method for such visualizations.\n",
    ">\n",
    "> ## **Discussion**\n",
    ">>  Once the graphs have been plotted we will discuss the variance in each cluster and how the minor differences exist in each method.\n"
   ]
  },
  {
   "cell_type": "code",
   "execution_count": 0,
   "metadata": {
    "colab": {
     "base_uri": "https://localhost:8080/",
     "height": 212
    },
    "colab_type": "code",
    "id": "PtfXDQlU8yX6",
    "outputId": "85643ebe-c637-4519-b8a9-16738825d29a"
   },
   "outputs": [
    {
     "name": "stdout",
     "output_type": "stream",
     "text": [
      "Requirement already satisfied: plotly in /usr/local/lib/python3.6/dist-packages (4.4.1)\n",
      "Requirement already satisfied: retrying>=1.3.3 in /usr/local/lib/python3.6/dist-packages (from plotly) (1.3.3)\n",
      "Requirement already satisfied: six in /usr/local/lib/python3.6/dist-packages (from plotly) (1.12.0)\n",
      "Requirement already satisfied: chart_studio in /usr/local/lib/python3.6/dist-packages (1.1.0)\n",
      "Requirement already satisfied: plotly in /usr/local/lib/python3.6/dist-packages (from chart_studio) (4.4.1)\n",
      "Requirement already satisfied: six in /usr/local/lib/python3.6/dist-packages (from chart_studio) (1.12.0)\n",
      "Requirement already satisfied: retrying>=1.3.3 in /usr/local/lib/python3.6/dist-packages (from chart_studio) (1.3.3)\n",
      "Requirement already satisfied: requests in /usr/local/lib/python3.6/dist-packages (from chart_studio) (2.23.0)\n",
      "Requirement already satisfied: idna<3,>=2.5 in /usr/local/lib/python3.6/dist-packages (from requests->chart_studio) (2.9)\n",
      "Requirement already satisfied: chardet<4,>=3.0.2 in /usr/local/lib/python3.6/dist-packages (from requests->chart_studio) (3.0.4)\n",
      "Requirement already satisfied: urllib3!=1.25.0,!=1.25.1,<1.26,>=1.21.1 in /usr/local/lib/python3.6/dist-packages (from requests->chart_studio) (1.24.3)\n",
      "Requirement already satisfied: certifi>=2017.4.17 in /usr/local/lib/python3.6/dist-packages (from requests->chart_studio) (2020.4.5.1)\n"
     ]
    }
   ],
   "source": [
    "!pip install plotly\n",
    "!pip install chart_studio"
   ]
  },
  {
   "cell_type": "code",
   "execution_count": 0,
   "metadata": {
    "colab": {
     "base_uri": "https://localhost:8080/",
     "height": 198
    },
    "colab_type": "code",
    "id": "rlSRkHqhA-YW",
    "outputId": "62dceca3-87a5-4531-cda6-401d2defec0a"
   },
   "outputs": [
    {
     "name": "stderr",
     "output_type": "stream",
     "text": [
      "/usr/local/lib/python3.6/dist-packages/ipykernel_launcher.py:2: FutureWarning:\n",
      "\n",
      "Indexing with multiple keys (implicitly converted to a tuple of keys) will be deprecated, use a list instead.\n",
      "\n"
     ]
    },
    {
     "data": {
      "text/html": [
       "<div>\n",
       "<style scoped>\n",
       "    .dataframe tbody tr th:only-of-type {\n",
       "        vertical-align: middle;\n",
       "    }\n",
       "\n",
       "    .dataframe tbody tr th {\n",
       "        vertical-align: top;\n",
       "    }\n",
       "\n",
       "    .dataframe thead th {\n",
       "        text-align: right;\n",
       "    }\n",
       "</style>\n",
       "<table border=\"1\" class=\"dataframe\">\n",
       "  <thead>\n",
       "    <tr style=\"text-align: right;\">\n",
       "      <th></th>\n",
       "      <th>kmean</th>\n",
       "      <th>BALANCE</th>\n",
       "      <th>PURCHASES</th>\n",
       "      <th>INSTALLMENTS_PURCHASES</th>\n",
       "      <th>CASH_ADVANCE</th>\n",
       "      <th>CREDIT_LIMIT</th>\n",
       "      <th>PAYMENTS</th>\n",
       "      <th>MINIMUM_PAYMENTS</th>\n",
       "      <th>TENURE</th>\n",
       "    </tr>\n",
       "  </thead>\n",
       "  <tbody>\n",
       "    <tr>\n",
       "      <th>0</th>\n",
       "      <td>0</td>\n",
       "      <td>867.278654</td>\n",
       "      <td>767.259701</td>\n",
       "      <td>349.398734</td>\n",
       "      <td>507.787037</td>\n",
       "      <td>3257.187877</td>\n",
       "      <td>1240.087018</td>\n",
       "      <td>600.376747</td>\n",
       "      <td>11.893193</td>\n",
       "    </tr>\n",
       "    <tr>\n",
       "      <th>1</th>\n",
       "      <td>1</td>\n",
       "      <td>1063.335094</td>\n",
       "      <td>467.436675</td>\n",
       "      <td>188.985340</td>\n",
       "      <td>1387.233009</td>\n",
       "      <td>2860.410122</td>\n",
       "      <td>802.664064</td>\n",
       "      <td>415.190075</td>\n",
       "      <td>7.446335</td>\n",
       "    </tr>\n",
       "    <tr>\n",
       "      <th>2</th>\n",
       "      <td>2</td>\n",
       "      <td>4435.010719</td>\n",
       "      <td>2138.538981</td>\n",
       "      <td>744.532056</td>\n",
       "      <td>2584.123154</td>\n",
       "      <td>9921.004420</td>\n",
       "      <td>4021.018359</td>\n",
       "      <td>1965.359931</td>\n",
       "      <td>11.912712</td>\n",
       "    </tr>\n",
       "  </tbody>\n",
       "</table>\n",
       "</div>"
      ],
      "text/plain": [
       "   kmean      BALANCE    PURCHASES  ...     PAYMENTS  MINIMUM_PAYMENTS     TENURE\n",
       "0      0   867.278654   767.259701  ...  1240.087018        600.376747  11.893193\n",
       "1      1  1063.335094   467.436675  ...   802.664064        415.190075   7.446335\n",
       "2      2  4435.010719  2138.538981  ...  4021.018359       1965.359931  11.912712\n",
       "\n",
       "[3 rows x 9 columns]"
      ]
     },
     "execution_count": 126,
     "metadata": {
      "tags": []
     },
     "output_type": "execute_result"
    }
   ],
   "source": [
    "p_ = pred.copy()\n",
    "pivoted = p_.groupby('kmean')[\"BALANCE\", \"PURCHASES\",\"INSTALLMENTS_PURCHASES\",\"CASH_ADVANCE\",\"CREDIT_LIMIT\", \"PAYMENTS\", \"MINIMUM_PAYMENTS\",\"TENURE\"].mean().reset_index()\n",
    "pivoted\n"
   ]
  },
  {
   "cell_type": "code",
   "execution_count": 0,
   "metadata": {
    "colab": {
     "base_uri": "https://localhost:8080/",
     "height": 198
    },
    "colab_type": "code",
    "id": "Fw7PewM2o9Xa",
    "outputId": "bb55370a-eac6-47a5-8a88-f47c52aeba73"
   },
   "outputs": [
    {
     "name": "stderr",
     "output_type": "stream",
     "text": [
      "/usr/local/lib/python3.6/dist-packages/ipykernel_launcher.py:2: FutureWarning:\n",
      "\n",
      "Indexing with multiple keys (implicitly converted to a tuple of keys) will be deprecated, use a list instead.\n",
      "\n"
     ]
    },
    {
     "data": {
      "text/html": [
       "<div>\n",
       "<style scoped>\n",
       "    .dataframe tbody tr th:only-of-type {\n",
       "        vertical-align: middle;\n",
       "    }\n",
       "\n",
       "    .dataframe tbody tr th {\n",
       "        vertical-align: top;\n",
       "    }\n",
       "\n",
       "    .dataframe thead th {\n",
       "        text-align: right;\n",
       "    }\n",
       "</style>\n",
       "<table border=\"1\" class=\"dataframe\">\n",
       "  <thead>\n",
       "    <tr style=\"text-align: right;\">\n",
       "      <th></th>\n",
       "      <th>kmedoid</th>\n",
       "      <th>BALANCE</th>\n",
       "      <th>PURCHASES</th>\n",
       "      <th>INSTALLMENTS_PURCHASES</th>\n",
       "      <th>CASH_ADVANCE</th>\n",
       "      <th>CREDIT_LIMIT</th>\n",
       "      <th>PAYMENTS</th>\n",
       "      <th>MINIMUM_PAYMENTS</th>\n",
       "      <th>TENURE</th>\n",
       "    </tr>\n",
       "  </thead>\n",
       "  <tbody>\n",
       "    <tr>\n",
       "      <th>0</th>\n",
       "      <td>0</td>\n",
       "      <td>654.860541</td>\n",
       "      <td>1475.188878</td>\n",
       "      <td>580.921217</td>\n",
       "      <td>426.045346</td>\n",
       "      <td>6917.238418</td>\n",
       "      <td>1905.803752</td>\n",
       "      <td>309.646394</td>\n",
       "      <td>11.785165</td>\n",
       "    </tr>\n",
       "    <tr>\n",
       "      <th>1</th>\n",
       "      <td>1</td>\n",
       "      <td>5040.642556</td>\n",
       "      <td>1934.104922</td>\n",
       "      <td>687.810777</td>\n",
       "      <td>3086.650020</td>\n",
       "      <td>8812.020811</td>\n",
       "      <td>3945.360785</td>\n",
       "      <td>2229.501869</td>\n",
       "      <td>11.687349</td>\n",
       "    </tr>\n",
       "    <tr>\n",
       "      <th>2</th>\n",
       "      <td>2</td>\n",
       "      <td>824.313134</td>\n",
       "      <td>493.488183</td>\n",
       "      <td>246.677047</td>\n",
       "      <td>530.630274</td>\n",
       "      <td>2028.324364</td>\n",
       "      <td>934.949100</td>\n",
       "      <td>625.381823</td>\n",
       "      <td>11.345147</td>\n",
       "    </tr>\n",
       "  </tbody>\n",
       "</table>\n",
       "</div>"
      ],
      "text/plain": [
       "   kmedoid      BALANCE    PURCHASES  ...     PAYMENTS  MINIMUM_PAYMENTS     TENURE\n",
       "0        0   654.860541  1475.188878  ...  1905.803752        309.646394  11.785165\n",
       "1        1  5040.642556  1934.104922  ...  3945.360785       2229.501869  11.687349\n",
       "2        2   824.313134   493.488183  ...   934.949100        625.381823  11.345147\n",
       "\n",
       "[3 rows x 9 columns]"
      ]
     },
     "execution_count": 127,
     "metadata": {
      "tags": []
     },
     "output_type": "execute_result"
    }
   ],
   "source": [
    "p_ = pred_medoid.copy()\n",
    "pivoted_medoid = p_.groupby('kmedoid')[\"BALANCE\", \"PURCHASES\",\"INSTALLMENTS_PURCHASES\",\"CASH_ADVANCE\",\"CREDIT_LIMIT\", \"PAYMENTS\", \"MINIMUM_PAYMENTS\",\"TENURE\"].mean().reset_index()\n",
    "pivoted_medoid"
   ]
  },
  {
   "cell_type": "code",
   "execution_count": 0,
   "metadata": {
    "colab": {
     "base_uri": "https://localhost:8080/",
     "height": 198
    },
    "colab_type": "code",
    "id": "NiqI7X7Zv02Z",
    "outputId": "60856f22-9c40-4e47-e663-b971ceacaaf1"
   },
   "outputs": [
    {
     "name": "stderr",
     "output_type": "stream",
     "text": [
      "/usr/local/lib/python3.6/dist-packages/ipykernel_launcher.py:2: FutureWarning:\n",
      "\n",
      "Indexing with multiple keys (implicitly converted to a tuple of keys) will be deprecated, use a list instead.\n",
      "\n"
     ]
    },
    {
     "data": {
      "text/html": [
       "<div>\n",
       "<style scoped>\n",
       "    .dataframe tbody tr th:only-of-type {\n",
       "        vertical-align: middle;\n",
       "    }\n",
       "\n",
       "    .dataframe tbody tr th {\n",
       "        vertical-align: top;\n",
       "    }\n",
       "\n",
       "    .dataframe thead th {\n",
       "        text-align: right;\n",
       "    }\n",
       "</style>\n",
       "<table border=\"1\" class=\"dataframe\">\n",
       "  <thead>\n",
       "    <tr style=\"text-align: right;\">\n",
       "      <th></th>\n",
       "      <th>AGNES</th>\n",
       "      <th>BALANCE</th>\n",
       "      <th>PURCHASES</th>\n",
       "      <th>INSTALLMENTS_PURCHASES</th>\n",
       "      <th>CASH_ADVANCE</th>\n",
       "      <th>CREDIT_LIMIT</th>\n",
       "      <th>PAYMENTS</th>\n",
       "      <th>MINIMUM_PAYMENTS</th>\n",
       "      <th>TENURE</th>\n",
       "    </tr>\n",
       "  </thead>\n",
       "  <tbody>\n",
       "    <tr>\n",
       "      <th>0</th>\n",
       "      <td>0</td>\n",
       "      <td>907.922272</td>\n",
       "      <td>927.558726</td>\n",
       "      <td>399.210851</td>\n",
       "      <td>534.239847</td>\n",
       "      <td>3820.321587</td>\n",
       "      <td>1413.171257</td>\n",
       "      <td>563.123311</td>\n",
       "      <td>11.825236</td>\n",
       "    </tr>\n",
       "    <tr>\n",
       "      <th>1</th>\n",
       "      <td>1</td>\n",
       "      <td>1190.676776</td>\n",
       "      <td>455.581452</td>\n",
       "      <td>174.873113</td>\n",
       "      <td>1532.940913</td>\n",
       "      <td>3002.774194</td>\n",
       "      <td>811.307170</td>\n",
       "      <td>436.039417</td>\n",
       "      <td>7.085484</td>\n",
       "    </tr>\n",
       "    <tr>\n",
       "      <th>2</th>\n",
       "      <td>2</td>\n",
       "      <td>5546.520793</td>\n",
       "      <td>1716.540480</td>\n",
       "      <td>598.728918</td>\n",
       "      <td>3268.377493</td>\n",
       "      <td>9140.768548</td>\n",
       "      <td>4046.947057</td>\n",
       "      <td>2679.277860</td>\n",
       "      <td>11.973963</td>\n",
       "    </tr>\n",
       "  </tbody>\n",
       "</table>\n",
       "</div>"
      ],
      "text/plain": [
       "   AGNES      BALANCE    PURCHASES  ...     PAYMENTS  MINIMUM_PAYMENTS     TENURE\n",
       "0      0   907.922272   927.558726  ...  1413.171257        563.123311  11.825236\n",
       "1      1  1190.676776   455.581452  ...   811.307170        436.039417   7.085484\n",
       "2      2  5546.520793  1716.540480  ...  4046.947057       2679.277860  11.973963\n",
       "\n",
       "[3 rows x 9 columns]"
      ]
     },
     "execution_count": 128,
     "metadata": {
      "tags": []
     },
     "output_type": "execute_result"
    }
   ],
   "source": [
    "p_ = pred_AGNES.copy()\n",
    "pred_AGNES = p_.groupby('AGNES')[\"BALANCE\", \"PURCHASES\",\"INSTALLMENTS_PURCHASES\",\"CASH_ADVANCE\",\"CREDIT_LIMIT\", \"PAYMENTS\", \"MINIMUM_PAYMENTS\",\"TENURE\"].mean().reset_index()\n",
    "pred_AGNES"
   ]
  },
  {
   "cell_type": "code",
   "execution_count": 0,
   "metadata": {
    "colab": {},
    "colab_type": "code",
    "id": "BxRW4SeUBKZT"
   },
   "outputs": [],
   "source": [
    "import chart_studio as plotly\n",
    "#plotly.tools.set_credentials_file(username='SameedAhmedKhan', api_key='XXXXXXXX')"
   ]
  },
  {
   "cell_type": "code",
   "execution_count": 0,
   "metadata": {
    "colab": {},
    "colab_type": "code",
    "id": "48rFmgu3BbMi"
   },
   "outputs": [],
   "source": [
    "import chart_studio.plotly as py\n",
    "import plotly.graph_objs as go"
   ]
  },
  {
   "cell_type": "code",
   "execution_count": 0,
   "metadata": {
    "colab": {},
    "colab_type": "code",
    "id": "X_q8fkUvBhH5"
   },
   "outputs": [],
   "source": [
    "radar_data = [\n",
    "    go.Scatterpolar(\n",
    "      r = list(pivoted.loc[0,[\"BALANCE\", \"PURCHASES\",\"INSTALLMENTS_PURCHASES\",\"CASH_ADVANCE\",\"CREDIT_LIMIT\", \"PAYMENTS\", \"MINIMUM_PAYMENTS\",\"TENURE\"]]),\n",
    "      theta = [\"BALANCE\", \"PURCHASES\",\"INSTALLMENTS_PURCHASES\",\"CASH_ADVANCE\",\"CREDIT_LIMIT\", \"PAYMENTS\", \"MINIMUM_PAYMENTS\",\"TENURE\"],\n",
    "      fill = None,\n",
    "      fillcolor=None,\n",
    "      name = 'First Cluster KMEANS'\n",
    "    ),\n",
    "    go.Scatterpolar(\n",
    "      r = list(pivoted.loc[1,[\"BALANCE\", \"PURCHASES\",\"INSTALLMENTS_PURCHASES\",\"CASH_ADVANCE\",\"CREDIT_LIMIT\", \"PAYMENTS\", \"MINIMUM_PAYMENTS\",\"TENURE\"]]),\n",
    "      theta = [\"BALANCE\", \"PURCHASES\",\"INSTALLMENTS_PURCHASES\",\"CASH_ADVANCE\",\"CREDIT_LIMIT\", \"PAYMENTS\", \"MINIMUM_PAYMENTS\",\"TENURE\"],\n",
    "      fill = None,\n",
    "      fillcolor=None,\n",
    "      name = 'Second Cluster KMEANS'\n",
    "    ),\n",
    "    go.Scatterpolar(\n",
    "      r = list(pivoted.loc[2,[\"BALANCE\", \"PURCHASES\",\"INSTALLMENTS_PURCHASES\",\"CASH_ADVANCE\",\"CREDIT_LIMIT\", \"PAYMENTS\", \"MINIMUM_PAYMENTS\",\"TENURE\"]]),\n",
    "      theta = [\"BALANCE\", \"PURCHASES\",\"INSTALLMENTS_PURCHASES\",\"CASH_ADVANCE\",\"CREDIT_LIMIT\", \"PAYMENTS\", \"MINIMUM_PAYMENTS\",\"TENURE\"],\n",
    "      fill = None,\n",
    "      fillcolor=None,\n",
    "      name = 'Third Cluster KMEANS'\n",
    "    )\n",
    "]"
   ]
  },
  {
   "cell_type": "code",
   "execution_count": 0,
   "metadata": {
    "colab": {},
    "colab_type": "code",
    "id": "LVGvi3EDpi-P"
   },
   "outputs": [],
   "source": [
    "radar_data_medoid = [\n",
    "    go.Scatterpolar(\n",
    "      r = list(pivoted_medoid.loc[0,[\"BALANCE\", \"PURCHASES\",\"INSTALLMENTS_PURCHASES\",\"CASH_ADVANCE\",\"CREDIT_LIMIT\", \"PAYMENTS\", \"MINIMUM_PAYMENTS\",\"TENURE\"]]),\n",
    "      theta = [\"BALANCE\", \"PURCHASES\",\"INSTALLMENTS_PURCHASES\",\"CASH_ADVANCE\",\"CREDIT_LIMIT\", \"PAYMENTS\", \"MINIMUM_PAYMENTS\",\"TENURE\"],\n",
    "      fill = None,\n",
    "      fillcolor=None,\n",
    "      name = 'First Cluster KMEDOIDS'\n",
    "    ),\n",
    "    go.Scatterpolar(\n",
    "      r = list(pivoted_medoid.loc[1,[\"BALANCE\", \"PURCHASES\",\"INSTALLMENTS_PURCHASES\",\"CASH_ADVANCE\",\"CREDIT_LIMIT\", \"PAYMENTS\", \"MINIMUM_PAYMENTS\",\"TENURE\"]]),\n",
    "      theta = [\"BALANCE\", \"PURCHASES\",\"INSTALLMENTS_PURCHASES\",\"CASH_ADVANCE\",\"CREDIT_LIMIT\", \"PAYMENTS\", \"MINIMUM_PAYMENTS\",\"TENURE\"],\n",
    "      fill = None,\n",
    "      fillcolor=None,\n",
    "      name = 'Second Cluster KMEDOIDS'\n",
    "    ),\n",
    "    go.Scatterpolar(\n",
    "      r = list(pivoted_medoid.loc[2,[\"BALANCE\", \"PURCHASES\",\"INSTALLMENTS_PURCHASES\",\"CASH_ADVANCE\",\"CREDIT_LIMIT\", \"PAYMENTS\", \"MINIMUM_PAYMENTS\",\"TENURE\"]]),\n",
    "      theta = [\"BALANCE\", \"PURCHASES\",\"INSTALLMENTS_PURCHASES\",\"CASH_ADVANCE\",\"CREDIT_LIMIT\", \"PAYMENTS\", \"MINIMUM_PAYMENTS\",\"TENURE\"],\n",
    "      fill = None,\n",
    "      fillcolor=None,\n",
    "      name = 'Third Cluster KMEDOIDS'\n",
    "    )\n",
    "]"
   ]
  },
  {
   "cell_type": "code",
   "execution_count": 0,
   "metadata": {
    "colab": {},
    "colab_type": "code",
    "id": "DSEwrEVmwDI6"
   },
   "outputs": [],
   "source": [
    "radar_data_AGNES = [\n",
    "    go.Scatterpolar(\n",
    "      r = list(pred_AGNES.loc[0,[\"BALANCE\", \"PURCHASES\",\"INSTALLMENTS_PURCHASES\",\"CASH_ADVANCE\",\"CREDIT_LIMIT\", \"PAYMENTS\", \"MINIMUM_PAYMENTS\",\"TENURE\"]]),\n",
    "      theta = [\"BALANCE\", \"PURCHASES\",\"INSTALLMENTS_PURCHASES\",\"CASH_ADVANCE\",\"CREDIT_LIMIT\", \"PAYMENTS\", \"MINIMUM_PAYMENTS\",\"TENURE\"],\n",
    "      fill = None,\n",
    "      fillcolor=None,\n",
    "      name = 'First Cluster AGNES'\n",
    "    ),\n",
    "    go.Scatterpolar(\n",
    "      r = list(pred_AGNES.loc[1,[\"BALANCE\", \"PURCHASES\",\"INSTALLMENTS_PURCHASES\",\"CASH_ADVANCE\",\"CREDIT_LIMIT\", \"PAYMENTS\", \"MINIMUM_PAYMENTS\",\"TENURE\"]]),\n",
    "      theta = [\"BALANCE\", \"PURCHASES\",\"INSTALLMENTS_PURCHASES\",\"CASH_ADVANCE\",\"CREDIT_LIMIT\", \"PAYMENTS\", \"MINIMUM_PAYMENTS\",\"TENURE\"],\n",
    "      fill = None,\n",
    "      fillcolor=None,\n",
    "      name = 'Second Cluster AGNES'\n",
    "    ),\n",
    "    go.Scatterpolar(\n",
    "      r = list(pred_AGNES.loc[2,[\"BALANCE\", \"PURCHASES\",\"INSTALLMENTS_PURCHASES\",\"CASH_ADVANCE\",\"CREDIT_LIMIT\", \"PAYMENTS\", \"MINIMUM_PAYMENTS\",\"TENURE\"]]),\n",
    "      theta = [\"BALANCE\", \"PURCHASES\",\"INSTALLMENTS_PURCHASES\",\"CASH_ADVANCE\",\"CREDIT_LIMIT\", \"PAYMENTS\", \"MINIMUM_PAYMENTS\",\"TENURE\"],\n",
    "      fill = None,\n",
    "      fillcolor=None,\n",
    "      name = 'Third Cluster AGNES'\n",
    "    )\n",
    "]"
   ]
  },
  {
   "cell_type": "code",
   "execution_count": 0,
   "metadata": {
    "colab": {},
    "colab_type": "code",
    "id": "q70ZCDtNCYoQ"
   },
   "outputs": [],
   "source": [
    "radar_layout = go.Layout(polar = dict(radialaxis = dict(visible = True,range = [0, 11000])), showlegend = True)"
   ]
  },
  {
   "cell_type": "code",
   "execution_count": 0,
   "metadata": {
    "colab": {
     "base_uri": "https://localhost:8080/",
     "height": 546
    },
    "colab_type": "code",
    "id": "IqNv-cCWCaXW",
    "outputId": "6c0f048a-7dc5-4b0e-ab1c-96c59fd141a4"
   },
   "outputs": [
    {
     "data": {
      "text/html": [
       "\n",
       "        <iframe\n",
       "            width=\"100%\"\n",
       "            height=\"525px\"\n",
       "            src=\"https://plotly.com/~SameedAhmedKhan/0.embed\"\n",
       "            frameborder=\"0\"\n",
       "            allowfullscreen\n",
       "        ></iframe>\n",
       "        "
      ],
      "text/plain": [
       "<IPython.lib.display.IFrame at 0x7fcb83726a90>"
      ]
     },
     "execution_count": 138,
     "metadata": {
      "tags": []
     },
     "output_type": "execute_result"
    }
   ],
   "source": [
    "fig = go.Figure(data=radar_data, layout=radar_layout)\n",
    "py.iplot(fig, filename = \"radar\")"
   ]
  },
  {
   "cell_type": "code",
   "execution_count": 0,
   "metadata": {
    "colab": {
     "base_uri": "https://localhost:8080/",
     "height": 546
    },
    "colab_type": "code",
    "id": "NaVCXvGICcPA",
    "outputId": "a9e06383-d1d6-465e-b062-8cfe9502e75f"
   },
   "outputs": [
    {
     "data": {
      "text/html": [
       "\n",
       "        <iframe\n",
       "            width=\"100%\"\n",
       "            height=\"525px\"\n",
       "            src=\"https://plotly.com/~SameedAhmedKhan/0.embed\"\n",
       "            frameborder=\"0\"\n",
       "            allowfullscreen\n",
       "        ></iframe>\n",
       "        "
      ],
      "text/plain": [
       "<IPython.lib.display.IFrame at 0x7fcb8280e1d0>"
      ]
     },
     "execution_count": 136,
     "metadata": {
      "tags": []
     },
     "output_type": "execute_result"
    }
   ],
   "source": [
    "fig = go.Figure(data=radar_data_medoid, layout=radar_layout)\n",
    "py.iplot(fig, filename = \"radar\")"
   ]
  },
  {
   "cell_type": "code",
   "execution_count": 0,
   "metadata": {
    "colab": {
     "base_uri": "https://localhost:8080/",
     "height": 546
    },
    "colab_type": "code",
    "id": "D0W-ZVkxp7c2",
    "outputId": "973b1410-6e77-4768-de02-8f480c478eb0"
   },
   "outputs": [
    {
     "data": {
      "text/html": [
       "\n",
       "        <iframe\n",
       "            width=\"100%\"\n",
       "            height=\"525px\"\n",
       "            src=\"https://plotly.com/~SameedAhmedKhan/0.embed\"\n",
       "            frameborder=\"0\"\n",
       "            allowfullscreen\n",
       "        ></iframe>\n",
       "        "
      ],
      "text/plain": [
       "<IPython.lib.display.IFrame at 0x7fcb8371d048>"
      ]
     },
     "execution_count": 137,
     "metadata": {
      "tags": []
     },
     "output_type": "execute_result"
    }
   ],
   "source": [
    "fig = go.Figure(data=radar_data_AGNES, layout=radar_layout)\n",
    "py.iplot(fig, filename = \"radar\")"
   ]
  },
  {
   "cell_type": "markdown",
   "metadata": {
    "colab_type": "text",
    "id": "BAwyfrZhz7jv"
   },
   "source": [
    "**We can derive the following conclusions:**\n",
    ">\n",
    ">\n",
    ">*   The major factors in forming the clusters according to AGNES and K Medoids are:\n",
    ">>***1.   Credit Limit***\n",
    ">>\n",
    ">>***2.   Payments***\n",
    ">>\n",
    ">>***2.   Purchases***\n",
    ">*   We can classify the clusters as:\n",
    ">>***1.   Premium Users:***\n",
    ">>>This category of users are observed to have extermely high Credit Limit and make a lot of Payments. They are around 1/6th of all the users. Usually the business owners who have to make usual and high payments fall in this group.\n",
    ">>\n",
    ">>***2.   Standard Users***\n",
    ">>>These users are highest in number and may include the normal people who do mediocre jobs and make usual and average transactions. However, they may have higher credit limits according to tale Medoid clustering tells.\n",
    ">>\n",
    ">>***3.   Basic Users***\n",
    ">>>This includes the users who rarely make use of their credit cards and usually have low balance and credit limit. Consequently, their payments are less and tenure doesnot lasts long. This may include students and people who are more dependent on paper money like normal shopkeepers. They also do not keep advance cash.\n",
    ">>"
   ]
  }
 ],
 "metadata": {
  "colab": {
   "collapsed_sections": [],
   "name": "Assign4_Clustering",
   "provenance": [],
   "toc_visible": true
  },
  "kernelspec": {
   "display_name": "Python 3",
   "language": "python",
   "name": "python3"
  },
  "language_info": {
   "codemirror_mode": {
    "name": "ipython",
    "version": 3
   },
   "file_extension": ".py",
   "mimetype": "text/x-python",
   "name": "python",
   "nbconvert_exporter": "python",
   "pygments_lexer": "ipython3",
   "version": "3.6.5"
  }
 },
 "nbformat": 4,
 "nbformat_minor": 1
}
